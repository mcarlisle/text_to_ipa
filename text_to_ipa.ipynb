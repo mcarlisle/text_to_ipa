{
 "cells": [
  {
   "cell_type": "code",
   "execution_count": 1,
   "metadata": {},
   "outputs": [],
   "source": [
    "from text_to_ipa import *"
   ]
  },
  {
   "cell_type": "code",
   "execution_count": 2,
   "metadata": {},
   "outputs": [
    {
     "data": {
      "text/plain": [
       "'laɪk ædʌm, aɪ wɑz ʌperʌntli junaɪtʌd baɪ noʊ lɪŋk tu eni ʌðɜr biɪŋ ɪn egzɪstʌns'"
      ]
     },
     "execution_count": 2,
     "metadata": {},
     "output_type": "execute_result"
    }
   ],
   "source": [
    "creature = \"Like Adam, I was apparently united by no link to any other being in existence\"\n",
    "transliterate_to_ipa(creature)"
   ]
  },
  {
   "cell_type": "code",
   "execution_count": 3,
   "metadata": {},
   "outputs": [],
   "source": [
    "with open(\"turing.txt\", \"r\") as f:\n",
    "    turing = f.read()"
   ]
  },
  {
   "cell_type": "code",
   "execution_count": 4,
   "metadata": {},
   "outputs": [
    {
     "name": "stdout",
     "output_type": "stream",
     "text": [
      "I propose to consider the question, \"Can machines think?\" This should begin with definitions of the meaning of the terms \"machine\" and \"think.\" The definitions might be framed so as to reflect so far as possible the normal use of the words, but this attitude is dangerous, If the meaning of the words \"machine\" and \"think\" are to be found by examining how they are commonly used it is difficult to escape the conclusion that the meaning and the answer to the question, \"Can machines think?\" is to be sought in a statistical survey such as a Gallup poll. But this is absurd. Instead of attempting such a definition I shall replace the question by another, which is closely related to it and is expressed in relatively unambiguous words.\n",
      "\n"
     ]
    },
    {
     "data": {
      "text/plain": [
       "'ʌɪ prʌpoʊz tu kʌnsɪdɜr ðʌ kwestʃʌn, \"kæn mʌʃɪnz θɪŋk?\" ðɪs ʃʊd bɪgɪn wɪð defʌnɪʃʌnz ʌv ðʌ mɪnɪŋ ʌv ðʌ tɜrmz \"mʌʃin\" ʌnd \"θɪŋk.\" ðʌ defʌnɪʃʌnz mʌɪt bi freɪmd soʊʊ æz tu rʌflekt so fɑr æz pɑsʌbʌl ðʌ nɔrmʌl jus ʌv ðʌ wɜrdz, bʌt ðɪs ætʌtud ɪz deɪndʒɜrʌs, ɪf ðʌ minɪŋ ʌv ðʌ wɜrdz \"mʌʃin\" ʌnd \"θɪŋk\" ɑr tu bi fʌʊnd baɪ ɪgzæmɪnɪŋ haʊ ðeɪ ɑr kɑmʌnli juzd ɪt ɪz dɪfʌkʌlt tu ɪskeɪp ðʌ kʌnkluʒʌn ðæt ðʌ minɪŋ ʌnd ðʌ ænsɜr tu ðʌ kwestʃʌn, \"kæn mʌʃinz θɪŋk?\" ɪz tu bi sɔt in a stʌtɪstɪkʌl sɜrveɪ sʌtʃ æz a gælʌp poʊl. bʌt ðɪs ɪz ʌbsɜrd. ɪnsted ʌv ʌtemptɪŋ sʌtʃ a defʌnɪʃʌn aɪ ʃæl ripleɪs ðʌ kwestʃʌn baɪ ʌnʌðɜr, wɪtʃ ɪz kloʊsli rɪleɪtɪd tu ɪt ʌnd ɪz ɪksprest in relʌtɪvli ʌnæmbɪgjʌwʌs wɜrdz.\\n'"
      ]
     },
     "execution_count": 4,
     "metadata": {},
     "output_type": "execute_result"
    }
   ],
   "source": [
    "print(turing)\n",
    "transliterate_to_ipa(turing)"
   ]
  },
  {
   "cell_type": "code",
   "execution_count": null,
   "metadata": {},
   "outputs": [],
   "source": []
  }
 ],
 "metadata": {
  "kernelspec": {
   "display_name": "Python 3",
   "language": "python",
   "name": "python3"
  },
  "language_info": {
   "codemirror_mode": {
    "name": "ipython",
    "version": 3
   },
   "file_extension": ".py",
   "mimetype": "text/x-python",
   "name": "python",
   "nbconvert_exporter": "python",
   "pygments_lexer": "ipython3",
   "version": "3.7.4"
  }
 },
 "nbformat": 4,
 "nbformat_minor": 2
}
